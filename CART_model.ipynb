{
 "cells": [
  {
   "cell_type": "code",
   "execution_count": 1,
   "metadata": {
    "colab": {
     "base_uri": "https://localhost:8080/",
     "height": 128
    },
    "colab_type": "code",
    "id": "3WCweR0QrUaF",
    "outputId": "62b771d4-c921-4e5c-c601-eb054e1f1a19"
   },
   "outputs": [
    {
     "name": "stdout",
     "output_type": "stream",
     "text": [
      "Go to this URL in a browser: https://accounts.google.com/o/oauth2/auth?client_id=947318989803-6bn6qk8qdgf4n4g3pfee6491hc0brc4i.apps.googleusercontent.com&redirect_uri=urn%3aietf%3awg%3aoauth%3a2.0%3aoob&response_type=code&scope=email%20https%3a%2f%2fwww.googleapis.com%2fauth%2fdocs.test%20https%3a%2f%2fwww.googleapis.com%2fauth%2fdrive%20https%3a%2f%2fwww.googleapis.com%2fauth%2fdrive.photos.readonly%20https%3a%2f%2fwww.googleapis.com%2fauth%2fpeopleapi.readonly\n",
      "\n",
      "Enter your authorization code:\n",
      "··········\n",
      "Mounted at /content/drive\n"
     ]
    }
   ],
   "source": [
    "from google.colab import drive\n",
    "drive.mount('/content/drive')"
   ]
  },
  {
   "cell_type": "code",
   "execution_count": 7,
   "metadata": {
    "colab": {
     "base_uri": "https://localhost:8080/",
     "height": 35
    },
    "colab_type": "code",
    "id": "DOvw_RIHrh44",
    "outputId": "23412dbb-f51a-4661-ffa3-61b455e4eb63"
   },
   "outputs": [
    {
     "name": "stdout",
     "output_type": "stream",
     "text": [
      "/content/drive/My Drive/IIM Project/CART Model\n"
     ]
    }
   ],
   "source": [
    "%cd /content/drive/My\\ Drive/IIM\\ Project/CART\\ Model/"
   ]
  },
  {
   "cell_type": "markdown",
   "metadata": {
    "colab_type": "text",
    "id": "Ljnas03EBBU5"
   },
   "source": [
    "#Importing Libraries and Data"
   ]
  },
  {
   "cell_type": "code",
   "execution_count": 1,
   "metadata": {
    "colab": {},
    "colab_type": "code",
    "id": "IJKuyV3mvNrD"
   },
   "outputs": [],
   "source": [
    "import pandas as pd\n",
    "import numpy as np\n",
    "import matplotlib.pyplot as plt"
   ]
  },
  {
   "cell_type": "code",
   "execution_count": 2,
   "metadata": {
    "colab": {},
    "colab_type": "code",
    "id": "aO_DDAG7vTxN"
   },
   "outputs": [],
   "source": [
    "# Reading Data\n",
    "df = pd.read_csv(\"btrain.csv\")\n",
    "df_test = pd.read_csv(\"btest.csv\")\n",
    "df_validate = pd.read_csv(\"bvalidate.csv\") #Validation Data file given seperately"
   ]
  },
  {
   "cell_type": "code",
   "execution_count": 3,
   "metadata": {
    "colab": {},
    "colab_type": "code",
    "id": "_F0ppTm0vYX-"
   },
   "outputs": [],
   "source": [
    "# Making Classifier column name consistent in all datasets\n",
    "df_validate.rename(columns={' winner':'winner'}, inplace=True) \n",
    "df_test.rename(columns={' winner':'winner'}, inplace=True)"
   ]
  },
  {
   "cell_type": "code",
   "execution_count": 4,
   "metadata": {
    "colab": {},
    "colab_type": "code",
    "id": "453HwRsE-MPn"
   },
   "outputs": [],
   "source": [
    "df = df[df.winner != '?']\n",
    "df_validate = df_validate[df_validate.winner != '?']\n",
    "df = df.reset_index(drop=True)\n",
    "df_validate = df_validate.reset_index(drop=True)"
   ]
  },
  {
   "cell_type": "markdown",
   "metadata": {
    "colab_type": "text",
    "id": "Wzj4zzHC-NyM"
   },
   "source": [
    "Above code basically removes those rows which have missing labels"
   ]
  },
  {
   "cell_type": "code",
   "execution_count": 5,
   "metadata": {
    "colab": {},
    "colab_type": "code",
    "id": "7LvKNl_8vjd2"
   },
   "outputs": [],
   "source": [
    "# Storing number of rows in each dataset\n",
    "ntrain = df.shape[0]\n",
    "nvalidate = df_validate.shape[0]\n",
    "ntest = df_test.shape[0]"
   ]
  },
  {
   "cell_type": "markdown",
   "metadata": {
    "colab_type": "text",
    "id": "Lp-kwH4dBR3g"
   },
   "source": [
    "#Pre Processing"
   ]
  },
  {
   "cell_type": "code",
   "execution_count": 6,
   "metadata": {
    "colab": {
     "base_uri": "https://localhost:8080/",
     "height": 35
    },
    "colab_type": "code",
    "id": "n88H1jdXvmx9",
    "outputId": "51008095-3670-42a9-eb15-dbca6c0e4330"
   },
   "outputs": [
    {
     "name": "stdout",
     "output_type": "stream",
     "text": [
      "(66943, 13)\n"
     ]
    }
   ],
   "source": [
    "\n",
    "# Storing independent/classifier variable seperately\n",
    "y_train = df['winner']\n",
    "y_validate = df_validate['winner']\n",
    "\n",
    "# Combining datasets so that all the preprocessing changes can be done in all of them at the same time\n",
    "all_data = pd.concat([df, df_validate, df_test], sort=False).reset_index(drop=True)\n",
    "all_data.drop(['winner'], axis=1, inplace=True) # removing dependent variable from all drop\n",
    "print(all_data.shape)"
   ]
  },
  {
   "cell_type": "code",
   "execution_count": 7,
   "metadata": {
    "colab": {
     "base_uri": "https://localhost:8080/",
     "height": 108
    },
    "colab_type": "code",
    "id": "YEssgDHBvxrR",
    "outputId": "a01b811b-ee5c-4fee-c050-dbe1bb37e7d5"
   },
   "outputs": [
    {
     "name": "stdout",
     "output_type": "stream",
     "text": [
      "Index(['winpercent', ' oppwinpercent', ' weather', ' temperature',\n",
      "       ' numinjured', ' oppnuminjured', ' startingpitcher',\n",
      "       ' oppstartingpitcher', ' dayssincegame', ' oppdayssincegame',\n",
      "       ' homeaway', ' rundifferential', ' opprundifferential'],\n",
      "      dtype='object')\n"
     ]
    }
   ],
   "source": [
    "df['winner'].value_counts()\n",
    "\n",
    "col_list = all_data.columns\n",
    "print(col_list)\n",
    "# Following information about categorical variables is obtained from data description already provided\n",
    "cat_col_list = [' weather', ' startingpitcher', ' oppstartingpitcher', \n",
    "                ' homeaway']\n"
   ]
  },
  {
   "cell_type": "code",
   "execution_count": 8,
   "metadata": {
    "colab": {
     "base_uri": "https://localhost:8080/",
     "height": 90
    },
    "colab_type": "code",
    "id": "goZJz2X3v1P9",
    "outputId": "a1ac7454-153b-4777-d336-cc1180e1afc5"
   },
   "outputs": [
    {
     "name": "stdout",
     "output_type": "stream",
     "text": [
      "['1' '?' '0' '-1']\n",
      "['?' '2' '3' '5' '4' '1']\n",
      "['5' '3' '2' '4' '1' '?']\n",
      "['1' '0' '?']\n"
     ]
    }
   ],
   "source": [
    "\n",
    "# Finding all distinct values present in categorical variables\n",
    "for i in range(0, len(cat_col_list)):\n",
    "    print(all_data[cat_col_list[i]].unique())\n"
   ]
  },
  {
   "cell_type": "code",
   "execution_count": 9,
   "metadata": {
    "colab": {
     "base_uri": "https://localhost:8080/",
     "height": 271
    },
    "colab_type": "code",
    "id": "eYBosOgIv66o",
    "outputId": "f84c7adc-3839-4e59-85e7-8436077e5ad3"
   },
   "outputs": [
    {
     "name": "stdout",
     "output_type": "stream",
     "text": [
      "winpercent             3412\n",
      " oppwinpercent         3433\n",
      " weather               3331\n",
      " temperature           3331\n",
      " numinjured            3312\n",
      " oppnuminjured         3306\n",
      " startingpitcher       3499\n",
      " oppstartingpitcher    3289\n",
      " dayssincegame         3322\n",
      " oppdayssincegame      3313\n",
      " homeaway              3318\n",
      " rundifferential       3281\n",
      " opprundifferential    3299\n",
      "dtype: int64\n"
     ]
    }
   ],
   "source": [
    "frequent_value = y_validate.mode()[0]\n",
    "all_data.replace('?', np.NaN, inplace = True)\n",
    "# Replacing missing values in dependent variable based on mode of the classes\n",
    "# This seems to be okay option for the given dataset since there is no class imbalance\n",
    "# and I plan to do similar pre processing as done in code of C4.5 algo so that we can compare the results\n",
    "# another approach is to remove such rows whose dependent variable is missing \n",
    "y_validate.replace('?', frequent_value, inplace = True)\n",
    "y_train.replace('?', y_train.mode()[0], inplace = True) \n",
    "\n",
    "# yourValue = '?'\n",
    "# for cols in df.columns:\n",
    "# \tif (yourValue in df[cols]):\n",
    "# \t\tprint('Found in '+cols) #to print the column name if found\n",
    "\n",
    "print(all_data.isnull().sum())"
   ]
  },
  {
   "cell_type": "code",
   "execution_count": 10,
   "metadata": {
    "colab": {
     "base_uri": "https://localhost:8080/",
     "height": 271
    },
    "colab_type": "code",
    "id": "0buU5d2JwDEV",
    "outputId": "1050bdf9-ed58-4ca7-cfac-ff5d6e6f2e59"
   },
   "outputs": [
    {
     "data": {
      "text/plain": [
       "winpercent             0\n",
       " oppwinpercent         0\n",
       " weather               0\n",
       " temperature           0\n",
       " numinjured            0\n",
       " oppnuminjured         0\n",
       " startingpitcher       0\n",
       " oppstartingpitcher    0\n",
       " dayssincegame         0\n",
       " oppdayssincegame      0\n",
       " homeaway              0\n",
       " rundifferential       0\n",
       " opprundifferential    0\n",
       "dtype: int64"
      ]
     },
     "execution_count": 10,
     "metadata": {},
     "output_type": "execute_result"
    }
   ],
   "source": [
    "\n",
    "\n",
    "for column in col_list:\n",
    "    all_data[column].fillna(all_data[column].mode()[0], inplace=True)\n",
    "all_data.isnull().sum()\n"
   ]
  },
  {
   "cell_type": "markdown",
   "metadata": {
    "colab_type": "text",
    "id": "wbAc0sf3BZ1P"
   },
   "source": [
    "### Preparing Modified data for modelling"
   ]
  },
  {
   "cell_type": "code",
   "execution_count": 11,
   "metadata": {
    "colab": {
     "base_uri": "https://localhost:8080/",
     "height": 380
    },
    "colab_type": "code",
    "id": "UQhJX3BiwKen",
    "outputId": "0d3fb803-ae5f-4416-d8bf-2f4c929843a9"
   },
   "outputs": [
    {
     "name": "stdout",
     "output_type": "stream",
     "text": [
      "<bound method NDFrame.head of         weather_-1   weather_0   weather_1   startingpitcher_1  \\\n",
      "0                0           0           1                   0   \n",
      "1                0           1           0                   0   \n",
      "2                0           1           0                   0   \n",
      "3                0           0           1                   0   \n",
      "4                1           0           0                   0   \n",
      "...            ...         ...         ...                 ...   \n",
      "66938            1           0           0                   0   \n",
      "66939            0           1           0                   1   \n",
      "66940            0           1           0                   1   \n",
      "66941            0           1           0                   0   \n",
      "66942            0           1           0                   0   \n",
      "\n",
      "        startingpitcher_2   startingpitcher_3   startingpitcher_4  \\\n",
      "0                       0                   0                   1   \n",
      "1                       1                   0                   0   \n",
      "2                       0                   1                   0   \n",
      "3                       0                   0                   0   \n",
      "4                       0                   0                   1   \n",
      "...                   ...                 ...                 ...   \n",
      "66938                   0                   1                   0   \n",
      "66939                   0                   0                   0   \n",
      "66940                   0                   0                   0   \n",
      "66941                   0                   0                   1   \n",
      "66942                   0                   0                   1   \n",
      "\n",
      "        startingpitcher_5   oppstartingpitcher_1   oppstartingpitcher_2  \\\n",
      "0                       0                      0                      0   \n",
      "1                       0                      0                      0   \n",
      "2                       0                      0                      0   \n",
      "3                       1                      0                      0   \n",
      "4                       0                      0                      0   \n",
      "...                   ...                    ...                    ...   \n",
      "66938                   0                      1                      0   \n",
      "66939                   0                      0                      1   \n",
      "66940                   0                      0                      0   \n",
      "66941                   0                      0                      0   \n",
      "66942                   0                      0                      0   \n",
      "\n",
      "        oppstartingpitcher_3   oppstartingpitcher_4   oppstartingpitcher_5  \n",
      "0                          0                      0                      1  \n",
      "1                          1                      0                      0  \n",
      "2                          0                      0                      1  \n",
      "3                          1                      0                      0  \n",
      "4                          0                      0                      1  \n",
      "...                      ...                    ...                    ...  \n",
      "66938                      0                      0                      0  \n",
      "66939                      0                      0                      0  \n",
      "66940                      0                      1                      0  \n",
      "66941                      0                      0                      1  \n",
      "66942                      0                      1                      0  \n",
      "\n",
      "[66943 rows x 13 columns]>\n",
      "Index([' weather_-1', ' weather_0', ' weather_1', ' startingpitcher_1',\n",
      "       ' startingpitcher_2', ' startingpitcher_3', ' startingpitcher_4',\n",
      "       ' startingpitcher_5', ' oppstartingpitcher_1', ' oppstartingpitcher_2',\n",
      "       ' oppstartingpitcher_3', ' oppstartingpitcher_4',\n",
      "       ' oppstartingpitcher_5'],\n",
      "      dtype='object')\n"
     ]
    }
   ],
   "source": [
    "# Encoding categorical variables, left one variable since it already have 0 and 1\n",
    "# as factors in it\n",
    "varia = pd.get_dummies(all_data.iloc[:, [2, 6, 7]])\n",
    "print(varia.head)\n",
    "print(varia.columns)\n",
    "\n",
    "# Remove original categorical variables from main dataset and concating the \n",
    "# encoded categorical variable\n",
    "all_data = all_data.drop([\" weather\", \" oppstartingpitcher\", \" startingpitcher\"], axis=1)\n",
    "\n"
   ]
  },
  {
   "cell_type": "code",
   "execution_count": 12,
   "metadata": {
    "colab": {
     "base_uri": "https://localhost:8080/",
     "height": 35
    },
    "colab_type": "code",
    "id": "85lnfpxD_sdl",
    "outputId": "ff620311-3e54-47c7-9fbe-a559c40589a5"
   },
   "outputs": [
    {
     "name": "stdout",
     "output_type": "stream",
     "text": [
      "(66943, 23)\n"
     ]
    }
   ],
   "source": [
    "final_all_data = pd.concat([all_data, varia], axis=1)\n",
    "print(final_all_data.shape)\n",
    "\n",
    "# Dividing modified data again into train test and validation sets\n",
    "X_train = final_all_data[:ntrain]\n",
    "X_validate = final_all_data[ntrain:ntrain + nvalidate]\n",
    "X_test = final_all_data[ntrain + nvalidate:]"
   ]
  },
  {
   "cell_type": "markdown",
   "metadata": {
    "colab_type": "text",
    "id": "YD1oh1AeBkQo"
   },
   "source": [
    "#Model Making"
   ]
  },
  {
   "cell_type": "code",
   "execution_count": 13,
   "metadata": {
    "colab": {},
    "colab_type": "code",
    "id": "TH1EK6fwwTaG"
   },
   "outputs": [],
   "source": [
    "\n",
    "\n",
    "from sklearn.tree import DecisionTreeClassifier\n",
    "from sklearn.model_selection import RandomizedSearchCV\n",
    "from sklearn.model_selection import KFold, StratifiedKFold, cross_val_score \n",
    "scv = StratifiedKFold(n_splits=5)\n",
    "\n",
    "# Number of features to consider at every split\n",
    "max_features = ['auto', 'sqrt']\n",
    "# Maximum number of levels in tree\n",
    "max_depth = [int(x) for x in np.linspace(10, 110, num = 11)]\n",
    "max_depth.append(None)\n",
    "# Minimum number of samples required to split a node\n",
    "min_samples_split = [2, 5, 10, 20]\n",
    "# Minimum number of samples required at each leaf node\n",
    "min_samples_leaf = [1, 2, 4, 10, 16]\n",
    "# Create the random grid\n",
    "random_grid = {'max_features': max_features,\n",
    "               'max_depth': max_depth,\n",
    "               'min_samples_split': min_samples_split,\n",
    "               'min_samples_leaf': min_samples_leaf}  \n",
    "# Use the random grid to search for best hyperparameters\n",
    "# First create the base model to tune\n",
    "rf = DecisionTreeClassifier(random_state=0)\n",
    "# Random search of parameters, using 3 fold cross validation, \n",
    "rf_random = RandomizedSearchCV(estimator = rf, param_distributions = random_grid,\n",
    "                n_iter = 100, cv = scv, verbose=20, n_jobs = -1)"
   ]
  },
  {
   "cell_type": "code",
   "execution_count": 14,
   "metadata": {
    "colab": {
     "base_uri": "https://localhost:8080/",
     "height": 1000
    },
    "colab_type": "code",
    "id": "4E9ft_0awa3_",
    "outputId": "5ff066ff-564a-44f0-a0f2-6fb50b13ce67"
   },
   "outputs": [
    {
     "name": "stdout",
     "output_type": "stream",
     "text": [
      "Fitting 5 folds for each of 100 candidates, totalling 500 fits\n"
     ]
    },
    {
     "name": "stderr",
     "output_type": "stream",
     "text": [
      "[Parallel(n_jobs=-1)]: Using backend LokyBackend with 8 concurrent workers.\n",
      "[Parallel(n_jobs=-1)]: Done   1 tasks      | elapsed:    2.8s\n",
      "[Parallel(n_jobs=-1)]: Done   2 tasks      | elapsed:    3.0s\n",
      "[Parallel(n_jobs=-1)]: Done   3 tasks      | elapsed:    3.0s\n",
      "[Parallel(n_jobs=-1)]: Done   4 tasks      | elapsed:    3.2s\n",
      "[Parallel(n_jobs=-1)]: Done   5 tasks      | elapsed:    3.2s\n",
      "[Parallel(n_jobs=-1)]: Done   6 tasks      | elapsed:    3.4s\n",
      "[Parallel(n_jobs=-1)]: Done   7 tasks      | elapsed:    3.4s\n",
      "[Parallel(n_jobs=-1)]: Done   8 tasks      | elapsed:    3.5s\n",
      "[Parallel(n_jobs=-1)]: Done   9 tasks      | elapsed:    3.6s\n",
      "[Parallel(n_jobs=-1)]: Done  10 tasks      | elapsed:    3.7s\n",
      "[Parallel(n_jobs=-1)]: Done  11 tasks      | elapsed:    4.0s\n",
      "[Parallel(n_jobs=-1)]: Done  12 tasks      | elapsed:    4.1s\n",
      "[Parallel(n_jobs=-1)]: Done  13 tasks      | elapsed:    4.2s\n",
      "[Parallel(n_jobs=-1)]: Done  14 tasks      | elapsed:    4.3s\n",
      "[Parallel(n_jobs=-1)]: Done  15 tasks      | elapsed:    4.4s\n",
      "[Parallel(n_jobs=-1)]: Done  16 tasks      | elapsed:    4.5s\n",
      "[Parallel(n_jobs=-1)]: Done  17 tasks      | elapsed:    4.6s\n",
      "[Parallel(n_jobs=-1)]: Done  18 tasks      | elapsed:    4.7s\n",
      "[Parallel(n_jobs=-1)]: Done  19 tasks      | elapsed:    4.8s\n",
      "[Parallel(n_jobs=-1)]: Done  20 tasks      | elapsed:    5.0s\n",
      "[Parallel(n_jobs=-1)]: Done  21 tasks      | elapsed:    5.1s\n",
      "[Parallel(n_jobs=-1)]: Done  22 tasks      | elapsed:    5.2s\n",
      "[Parallel(n_jobs=-1)]: Done  23 tasks      | elapsed:    5.2s\n",
      "[Parallel(n_jobs=-1)]: Done  24 tasks      | elapsed:    5.4s\n",
      "[Parallel(n_jobs=-1)]: Done  25 tasks      | elapsed:    5.5s\n",
      "[Parallel(n_jobs=-1)]: Done  26 tasks      | elapsed:    5.5s\n",
      "[Parallel(n_jobs=-1)]: Done  27 tasks      | elapsed:    5.7s\n",
      "[Parallel(n_jobs=-1)]: Done  28 tasks      | elapsed:    5.8s\n",
      "[Parallel(n_jobs=-1)]: Done  29 tasks      | elapsed:    5.9s\n",
      "[Parallel(n_jobs=-1)]: Done  30 tasks      | elapsed:    6.1s\n",
      "[Parallel(n_jobs=-1)]: Done  31 tasks      | elapsed:    6.2s\n",
      "[Parallel(n_jobs=-1)]: Done  32 tasks      | elapsed:    6.3s\n",
      "[Parallel(n_jobs=-1)]: Done  33 tasks      | elapsed:    6.4s\n",
      "[Parallel(n_jobs=-1)]: Done  34 tasks      | elapsed:    6.5s\n",
      "[Parallel(n_jobs=-1)]: Done  35 tasks      | elapsed:    6.5s\n",
      "[Parallel(n_jobs=-1)]: Done  36 tasks      | elapsed:    6.8s\n",
      "[Parallel(n_jobs=-1)]: Done  37 tasks      | elapsed:    6.8s\n",
      "[Parallel(n_jobs=-1)]: Done  38 tasks      | elapsed:    6.9s\n",
      "[Parallel(n_jobs=-1)]: Done  39 tasks      | elapsed:    7.1s\n",
      "[Parallel(n_jobs=-1)]: Done  40 tasks      | elapsed:    7.1s\n",
      "[Parallel(n_jobs=-1)]: Done  41 tasks      | elapsed:    7.2s\n",
      "[Parallel(n_jobs=-1)]: Done  42 tasks      | elapsed:    7.3s\n",
      "[Parallel(n_jobs=-1)]: Done  43 tasks      | elapsed:    7.6s\n",
      "[Parallel(n_jobs=-1)]: Done  44 tasks      | elapsed:    7.6s\n",
      "[Parallel(n_jobs=-1)]: Done  45 tasks      | elapsed:    8.0s\n",
      "[Parallel(n_jobs=-1)]: Done  46 tasks      | elapsed:    8.1s\n",
      "[Parallel(n_jobs=-1)]: Done  47 tasks      | elapsed:    8.3s\n",
      "[Parallel(n_jobs=-1)]: Done  48 tasks      | elapsed:    8.5s\n",
      "[Parallel(n_jobs=-1)]: Done  49 tasks      | elapsed:    8.5s\n",
      "[Parallel(n_jobs=-1)]: Done  50 tasks      | elapsed:    8.6s\n",
      "[Parallel(n_jobs=-1)]: Done  51 tasks      | elapsed:    8.7s\n",
      "[Parallel(n_jobs=-1)]: Done  52 tasks      | elapsed:    9.0s\n",
      "[Parallel(n_jobs=-1)]: Done  53 tasks      | elapsed:    9.3s\n",
      "[Parallel(n_jobs=-1)]: Done  54 tasks      | elapsed:    9.4s\n",
      "[Parallel(n_jobs=-1)]: Done  55 tasks      | elapsed:    9.5s\n",
      "[Parallel(n_jobs=-1)]: Done  56 tasks      | elapsed:    9.7s\n",
      "[Parallel(n_jobs=-1)]: Done  57 tasks      | elapsed:    9.7s\n",
      "[Parallel(n_jobs=-1)]: Done  58 tasks      | elapsed:   10.1s\n",
      "[Parallel(n_jobs=-1)]: Done  59 tasks      | elapsed:   10.2s\n",
      "[Parallel(n_jobs=-1)]: Done  60 tasks      | elapsed:   10.3s\n",
      "[Parallel(n_jobs=-1)]: Done  61 tasks      | elapsed:   10.7s\n",
      "[Parallel(n_jobs=-1)]: Done  62 tasks      | elapsed:   10.8s\n",
      "[Parallel(n_jobs=-1)]: Done  63 tasks      | elapsed:   10.9s\n",
      "[Parallel(n_jobs=-1)]: Done  64 tasks      | elapsed:   11.0s\n",
      "[Parallel(n_jobs=-1)]: Done  65 tasks      | elapsed:   11.0s\n",
      "[Parallel(n_jobs=-1)]: Done  66 tasks      | elapsed:   11.5s\n",
      "[Parallel(n_jobs=-1)]: Done  67 tasks      | elapsed:   11.5s\n",
      "[Parallel(n_jobs=-1)]: Done  68 tasks      | elapsed:   11.5s\n",
      "[Parallel(n_jobs=-1)]: Done  69 tasks      | elapsed:   11.9s\n",
      "[Parallel(n_jobs=-1)]: Done  70 tasks      | elapsed:   12.1s\n",
      "[Parallel(n_jobs=-1)]: Done  71 tasks      | elapsed:   12.2s\n",
      "[Parallel(n_jobs=-1)]: Done  72 tasks      | elapsed:   12.4s\n",
      "[Parallel(n_jobs=-1)]: Done  73 tasks      | elapsed:   12.7s\n",
      "[Parallel(n_jobs=-1)]: Done  74 tasks      | elapsed:   13.0s\n",
      "[Parallel(n_jobs=-1)]: Done  75 tasks      | elapsed:   13.2s\n",
      "[Parallel(n_jobs=-1)]: Done  76 tasks      | elapsed:   13.4s\n",
      "[Parallel(n_jobs=-1)]: Done  77 tasks      | elapsed:   13.6s\n",
      "[Parallel(n_jobs=-1)]: Done  78 tasks      | elapsed:   13.8s\n",
      "[Parallel(n_jobs=-1)]: Done  79 tasks      | elapsed:   14.0s\n",
      "[Parallel(n_jobs=-1)]: Done  80 tasks      | elapsed:   14.2s\n",
      "[Parallel(n_jobs=-1)]: Done  81 tasks      | elapsed:   14.3s\n",
      "[Parallel(n_jobs=-1)]: Done  82 tasks      | elapsed:   14.5s\n",
      "[Parallel(n_jobs=-1)]: Done  83 tasks      | elapsed:   14.8s\n",
      "[Parallel(n_jobs=-1)]: Done  84 tasks      | elapsed:   15.1s\n",
      "[Parallel(n_jobs=-1)]: Done  85 tasks      | elapsed:   15.3s\n",
      "[Parallel(n_jobs=-1)]: Done  86 tasks      | elapsed:   15.3s\n",
      "[Parallel(n_jobs=-1)]: Done  87 tasks      | elapsed:   15.5s\n",
      "[Parallel(n_jobs=-1)]: Done  88 tasks      | elapsed:   15.6s\n",
      "[Parallel(n_jobs=-1)]: Done  89 tasks      | elapsed:   15.9s\n",
      "[Parallel(n_jobs=-1)]: Done  90 tasks      | elapsed:   16.1s\n",
      "[Parallel(n_jobs=-1)]: Done  91 tasks      | elapsed:   16.2s\n",
      "[Parallel(n_jobs=-1)]: Done  92 tasks      | elapsed:   16.3s\n",
      "[Parallel(n_jobs=-1)]: Done  93 tasks      | elapsed:   16.7s\n",
      "[Parallel(n_jobs=-1)]: Done  94 tasks      | elapsed:   16.9s\n",
      "[Parallel(n_jobs=-1)]: Done  95 tasks      | elapsed:   17.1s\n",
      "[Parallel(n_jobs=-1)]: Done  96 tasks      | elapsed:   17.2s\n",
      "[Parallel(n_jobs=-1)]: Done  97 tasks      | elapsed:   17.3s\n",
      "[Parallel(n_jobs=-1)]: Done  98 tasks      | elapsed:   17.8s\n",
      "[Parallel(n_jobs=-1)]: Done  99 tasks      | elapsed:   17.9s\n",
      "[Parallel(n_jobs=-1)]: Done 100 tasks      | elapsed:   17.9s\n",
      "[Parallel(n_jobs=-1)]: Done 101 tasks      | elapsed:   17.9s\n",
      "[Parallel(n_jobs=-1)]: Done 102 tasks      | elapsed:   18.3s\n",
      "[Parallel(n_jobs=-1)]: Done 103 tasks      | elapsed:   18.6s\n",
      "[Parallel(n_jobs=-1)]: Done 104 tasks      | elapsed:   18.7s\n",
      "[Parallel(n_jobs=-1)]: Done 105 tasks      | elapsed:   19.3s\n",
      "[Parallel(n_jobs=-1)]: Done 106 tasks      | elapsed:   19.5s\n",
      "[Parallel(n_jobs=-1)]: Done 107 tasks      | elapsed:   19.6s\n",
      "[Parallel(n_jobs=-1)]: Done 108 tasks      | elapsed:   19.9s\n",
      "[Parallel(n_jobs=-1)]: Done 109 tasks      | elapsed:   20.0s\n",
      "[Parallel(n_jobs=-1)]: Done 110 tasks      | elapsed:   20.0s\n",
      "[Parallel(n_jobs=-1)]: Done 111 tasks      | elapsed:   20.1s\n",
      "[Parallel(n_jobs=-1)]: Done 112 tasks      | elapsed:   20.1s\n",
      "[Parallel(n_jobs=-1)]: Done 113 tasks      | elapsed:   20.7s\n",
      "[Parallel(n_jobs=-1)]: Done 114 tasks      | elapsed:   20.8s\n",
      "[Parallel(n_jobs=-1)]: Done 115 tasks      | elapsed:   21.1s\n",
      "[Parallel(n_jobs=-1)]: Done 116 tasks      | elapsed:   21.3s\n",
      "[Parallel(n_jobs=-1)]: Done 117 tasks      | elapsed:   21.5s\n",
      "[Parallel(n_jobs=-1)]: Done 118 tasks      | elapsed:   21.7s\n",
      "[Parallel(n_jobs=-1)]: Done 119 tasks      | elapsed:   21.7s\n",
      "[Parallel(n_jobs=-1)]: Done 120 tasks      | elapsed:   22.0s\n",
      "[Parallel(n_jobs=-1)]: Done 121 tasks      | elapsed:   22.0s\n",
      "[Parallel(n_jobs=-1)]: Done 122 tasks      | elapsed:   22.1s\n",
      "[Parallel(n_jobs=-1)]: Done 123 tasks      | elapsed:   22.4s\n",
      "[Parallel(n_jobs=-1)]: Done 124 tasks      | elapsed:   22.8s\n",
      "[Parallel(n_jobs=-1)]: Done 125 tasks      | elapsed:   23.0s\n",
      "[Parallel(n_jobs=-1)]: Done 126 tasks      | elapsed:   23.1s\n",
      "[Parallel(n_jobs=-1)]: Done 127 tasks      | elapsed:   23.1s\n",
      "[Parallel(n_jobs=-1)]: Done 128 tasks      | elapsed:   23.4s\n",
      "[Parallel(n_jobs=-1)]: Done 129 tasks      | elapsed:   23.6s\n",
      "[Parallel(n_jobs=-1)]: Done 130 tasks      | elapsed:   23.7s\n",
      "[Parallel(n_jobs=-1)]: Done 131 tasks      | elapsed:   23.9s\n",
      "[Parallel(n_jobs=-1)]: Done 132 tasks      | elapsed:   24.5s\n",
      "[Parallel(n_jobs=-1)]: Done 133 tasks      | elapsed:   24.7s\n",
      "[Parallel(n_jobs=-1)]: Done 134 tasks      | elapsed:   24.8s\n",
      "[Parallel(n_jobs=-1)]: Done 135 tasks      | elapsed:   24.8s\n",
      "[Parallel(n_jobs=-1)]: Done 136 tasks      | elapsed:   24.9s\n",
      "[Parallel(n_jobs=-1)]: Done 137 tasks      | elapsed:   25.0s\n",
      "[Parallel(n_jobs=-1)]: Done 138 tasks      | elapsed:   25.2s\n",
      "[Parallel(n_jobs=-1)]: Done 139 tasks      | elapsed:   25.3s\n",
      "[Parallel(n_jobs=-1)]: Done 140 tasks      | elapsed:   25.8s\n",
      "[Parallel(n_jobs=-1)]: Done 141 tasks      | elapsed:   25.9s\n",
      "[Parallel(n_jobs=-1)]: Done 142 tasks      | elapsed:   26.1s\n",
      "[Parallel(n_jobs=-1)]: Done 143 tasks      | elapsed:   26.2s\n",
      "[Parallel(n_jobs=-1)]: Done 144 tasks      | elapsed:   26.3s\n",
      "[Parallel(n_jobs=-1)]: Done 145 tasks      | elapsed:   26.4s\n",
      "[Parallel(n_jobs=-1)]: Done 146 tasks      | elapsed:   26.6s\n",
      "[Parallel(n_jobs=-1)]: Done 147 tasks      | elapsed:   26.8s\n",
      "[Parallel(n_jobs=-1)]: Done 148 tasks      | elapsed:   27.0s\n",
      "[Parallel(n_jobs=-1)]: Done 149 tasks      | elapsed:   27.3s\n",
      "[Parallel(n_jobs=-1)]: Done 150 tasks      | elapsed:   27.5s\n",
      "[Parallel(n_jobs=-1)]: Done 151 tasks      | elapsed:   27.6s\n",
      "[Parallel(n_jobs=-1)]: Done 152 tasks      | elapsed:   27.8s\n",
      "[Parallel(n_jobs=-1)]: Done 153 tasks      | elapsed:   28.0s\n",
      "[Parallel(n_jobs=-1)]: Done 154 tasks      | elapsed:   28.1s\n",
      "[Parallel(n_jobs=-1)]: Done 155 tasks      | elapsed:   28.4s\n",
      "[Parallel(n_jobs=-1)]: Done 156 tasks      | elapsed:   28.5s\n",
      "[Parallel(n_jobs=-1)]: Done 157 tasks      | elapsed:   28.7s\n",
      "[Parallel(n_jobs=-1)]: Done 158 tasks      | elapsed:   28.8s\n",
      "[Parallel(n_jobs=-1)]: Done 159 tasks      | elapsed:   29.3s\n",
      "[Parallel(n_jobs=-1)]: Done 160 tasks      | elapsed:   29.5s\n",
      "[Parallel(n_jobs=-1)]: Done 161 tasks      | elapsed:   29.6s\n",
      "[Parallel(n_jobs=-1)]: Done 162 tasks      | elapsed:   29.7s\n",
      "[Parallel(n_jobs=-1)]: Done 163 tasks      | elapsed:   29.9s\n",
      "[Parallel(n_jobs=-1)]: Done 164 tasks      | elapsed:   30.0s\n",
      "[Parallel(n_jobs=-1)]: Done 165 tasks      | elapsed:   30.2s\n",
      "[Parallel(n_jobs=-1)]: Done 166 tasks      | elapsed:   30.5s\n",
      "[Parallel(n_jobs=-1)]: Done 167 tasks      | elapsed:   30.6s\n",
      "[Parallel(n_jobs=-1)]: Done 168 tasks      | elapsed:   30.9s\n",
      "[Parallel(n_jobs=-1)]: Done 169 tasks      | elapsed:   31.2s\n",
      "[Parallel(n_jobs=-1)]: Done 170 tasks      | elapsed:   31.3s\n",
      "[Parallel(n_jobs=-1)]: Done 171 tasks      | elapsed:   31.5s\n",
      "[Parallel(n_jobs=-1)]: Done 172 tasks      | elapsed:   31.6s\n",
      "[Parallel(n_jobs=-1)]: Done 173 tasks      | elapsed:   31.8s\n",
      "[Parallel(n_jobs=-1)]: Done 174 tasks      | elapsed:   32.0s\n",
      "[Parallel(n_jobs=-1)]: Done 175 tasks      | elapsed:   32.2s\n",
      "[Parallel(n_jobs=-1)]: Done 176 tasks      | elapsed:   32.4s\n",
      "[Parallel(n_jobs=-1)]: Done 177 tasks      | elapsed:   32.6s\n",
      "[Parallel(n_jobs=-1)]: Done 178 tasks      | elapsed:   33.0s\n",
      "[Parallel(n_jobs=-1)]: Done 179 tasks      | elapsed:   33.3s\n",
      "[Parallel(n_jobs=-1)]: Done 180 tasks      | elapsed:   33.5s\n",
      "[Parallel(n_jobs=-1)]: Done 181 tasks      | elapsed:   33.5s\n",
      "[Parallel(n_jobs=-1)]: Done 182 tasks      | elapsed:   33.5s\n",
      "[Parallel(n_jobs=-1)]: Done 183 tasks      | elapsed:   33.6s\n",
      "[Parallel(n_jobs=-1)]: Done 184 tasks      | elapsed:   33.6s\n",
      "[Parallel(n_jobs=-1)]: Done 185 tasks      | elapsed:   34.2s\n",
      "[Parallel(n_jobs=-1)]: Done 186 tasks      | elapsed:   34.3s\n",
      "[Parallel(n_jobs=-1)]: Done 187 tasks      | elapsed:   34.5s\n",
      "[Parallel(n_jobs=-1)]: Done 188 tasks      | elapsed:   34.7s\n",
      "[Parallel(n_jobs=-1)]: Done 189 tasks      | elapsed:   34.8s\n",
      "[Parallel(n_jobs=-1)]: Done 190 tasks      | elapsed:   35.2s\n",
      "[Parallel(n_jobs=-1)]: Done 191 tasks      | elapsed:   35.4s\n",
      "[Parallel(n_jobs=-1)]: Done 192 tasks      | elapsed:   35.5s\n",
      "[Parallel(n_jobs=-1)]: Done 193 tasks      | elapsed:   35.7s\n",
      "[Parallel(n_jobs=-1)]: Done 194 tasks      | elapsed:   35.8s\n",
      "[Parallel(n_jobs=-1)]: Done 195 tasks      | elapsed:   35.8s\n",
      "[Parallel(n_jobs=-1)]: Done 196 tasks      | elapsed:   36.2s\n",
      "[Parallel(n_jobs=-1)]: Done 197 tasks      | elapsed:   36.3s\n",
      "[Parallel(n_jobs=-1)]: Done 198 tasks      | elapsed:   36.5s\n",
      "[Parallel(n_jobs=-1)]: Done 199 tasks      | elapsed:   36.9s\n",
      "[Parallel(n_jobs=-1)]: Done 200 tasks      | elapsed:   37.0s\n",
      "[Parallel(n_jobs=-1)]: Done 201 tasks      | elapsed:   37.1s\n",
      "[Parallel(n_jobs=-1)]: Done 202 tasks      | elapsed:   37.3s\n",
      "[Parallel(n_jobs=-1)]: Done 203 tasks      | elapsed:   37.5s\n",
      "[Parallel(n_jobs=-1)]: Done 204 tasks      | elapsed:   37.7s\n",
      "[Parallel(n_jobs=-1)]: Done 205 tasks      | elapsed:   37.8s\n",
      "[Parallel(n_jobs=-1)]: Done 206 tasks      | elapsed:   37.8s\n",
      "[Parallel(n_jobs=-1)]: Done 207 tasks      | elapsed:   38.3s\n",
      "[Parallel(n_jobs=-1)]: Done 208 tasks      | elapsed:   38.4s\n",
      "[Parallel(n_jobs=-1)]: Done 209 tasks      | elapsed:   38.5s\n",
      "[Parallel(n_jobs=-1)]: Done 210 tasks      | elapsed:   38.7s\n",
      "[Parallel(n_jobs=-1)]: Done 211 tasks      | elapsed:   39.1s\n",
      "[Parallel(n_jobs=-1)]: Done 212 tasks      | elapsed:   39.2s\n",
      "[Parallel(n_jobs=-1)]: Done 213 tasks      | elapsed:   39.4s\n",
      "[Parallel(n_jobs=-1)]: Done 214 tasks      | elapsed:   39.5s\n",
      "[Parallel(n_jobs=-1)]: Done 215 tasks      | elapsed:   39.6s\n",
      "[Parallel(n_jobs=-1)]: Done 216 tasks      | elapsed:   39.8s\n",
      "[Parallel(n_jobs=-1)]: Done 217 tasks      | elapsed:   40.0s\n",
      "[Parallel(n_jobs=-1)]: Done 218 tasks      | elapsed:   40.2s\n",
      "[Parallel(n_jobs=-1)]: Done 219 tasks      | elapsed:   40.5s\n",
      "[Parallel(n_jobs=-1)]: Done 220 tasks      | elapsed:   40.6s\n",
      "[Parallel(n_jobs=-1)]: Done 221 tasks      | elapsed:   40.8s\n",
      "[Parallel(n_jobs=-1)]: Done 222 tasks      | elapsed:   41.0s\n",
      "[Parallel(n_jobs=-1)]: Done 223 tasks      | elapsed:   41.1s\n",
      "[Parallel(n_jobs=-1)]: Done 224 tasks      | elapsed:   41.3s\n",
      "[Parallel(n_jobs=-1)]: Done 225 tasks      | elapsed:   41.5s\n",
      "[Parallel(n_jobs=-1)]: Done 226 tasks      | elapsed:   41.6s\n",
      "[Parallel(n_jobs=-1)]: Done 227 tasks      | elapsed:   41.9s\n",
      "[Parallel(n_jobs=-1)]: Done 228 tasks      | elapsed:   42.1s\n",
      "[Parallel(n_jobs=-1)]: Done 229 tasks      | elapsed:   42.3s\n",
      "[Parallel(n_jobs=-1)]: Done 230 tasks      | elapsed:   42.5s\n",
      "[Parallel(n_jobs=-1)]: Done 231 tasks      | elapsed:   42.6s\n",
      "[Parallel(n_jobs=-1)]: Done 232 tasks      | elapsed:   42.7s\n",
      "[Parallel(n_jobs=-1)]: Done 233 tasks      | elapsed:   42.9s\n",
      "[Parallel(n_jobs=-1)]: Done 234 tasks      | elapsed:   43.1s\n",
      "[Parallel(n_jobs=-1)]: Done 235 tasks      | elapsed:   43.2s\n",
      "[Parallel(n_jobs=-1)]: Done 236 tasks      | elapsed:   43.7s\n",
      "[Parallel(n_jobs=-1)]: Done 237 tasks      | elapsed:   43.8s\n",
      "[Parallel(n_jobs=-1)]: Done 238 tasks      | elapsed:   43.8s\n",
      "[Parallel(n_jobs=-1)]: Done 239 tasks      | elapsed:   43.9s\n",
      "[Parallel(n_jobs=-1)]: Done 240 tasks      | elapsed:   44.1s\n",
      "[Parallel(n_jobs=-1)]: Done 241 tasks      | elapsed:   44.3s\n",
      "[Parallel(n_jobs=-1)]: Done 242 tasks      | elapsed:   44.5s\n",
      "[Parallel(n_jobs=-1)]: Done 243 tasks      | elapsed:   44.8s\n",
      "[Parallel(n_jobs=-1)]: Done 244 tasks      | elapsed:   44.9s\n",
      "[Parallel(n_jobs=-1)]: Done 245 tasks      | elapsed:   45.3s\n",
      "[Parallel(n_jobs=-1)]: Done 246 tasks      | elapsed:   45.5s\n",
      "[Parallel(n_jobs=-1)]: Done 247 tasks      | elapsed:   45.6s\n",
      "[Parallel(n_jobs=-1)]: Done 248 tasks      | elapsed:   45.6s\n",
      "[Parallel(n_jobs=-1)]: Done 249 tasks      | elapsed:   45.7s\n",
      "[Parallel(n_jobs=-1)]: Done 250 tasks      | elapsed:   46.0s\n",
      "[Parallel(n_jobs=-1)]: Done 251 tasks      | elapsed:   46.2s\n",
      "[Parallel(n_jobs=-1)]: Done 252 tasks      | elapsed:   46.4s\n",
      "[Parallel(n_jobs=-1)]: Done 253 tasks      | elapsed:   46.6s\n",
      "[Parallel(n_jobs=-1)]: Done 254 tasks      | elapsed:   47.0s\n",
      "[Parallel(n_jobs=-1)]: Done 255 tasks      | elapsed:   47.1s\n",
      "[Parallel(n_jobs=-1)]: Done 256 tasks      | elapsed:   47.3s\n",
      "[Parallel(n_jobs=-1)]: Done 257 tasks      | elapsed:   47.4s\n",
      "[Parallel(n_jobs=-1)]: Done 258 tasks      | elapsed:   47.5s\n",
      "[Parallel(n_jobs=-1)]: Done 259 tasks      | elapsed:   47.7s\n",
      "[Parallel(n_jobs=-1)]: Done 260 tasks      | elapsed:   47.9s\n",
      "[Parallel(n_jobs=-1)]: Done 261 tasks      | elapsed:   48.0s\n",
      "[Parallel(n_jobs=-1)]: Done 262 tasks      | elapsed:   48.5s\n",
      "[Parallel(n_jobs=-1)]: Done 263 tasks      | elapsed:   48.6s\n",
      "[Parallel(n_jobs=-1)]: Done 264 tasks      | elapsed:   48.8s\n",
      "[Parallel(n_jobs=-1)]: Done 265 tasks      | elapsed:   48.9s\n",
      "[Parallel(n_jobs=-1)]: Done 266 tasks      | elapsed:   49.1s\n",
      "[Parallel(n_jobs=-1)]: Done 267 tasks      | elapsed:   49.2s\n",
      "[Parallel(n_jobs=-1)]: Done 268 tasks      | elapsed:   49.2s\n",
      "[Parallel(n_jobs=-1)]: Done 269 tasks      | elapsed:   49.7s\n",
      "[Parallel(n_jobs=-1)]: Done 270 tasks      | elapsed:   50.0s\n",
      "[Parallel(n_jobs=-1)]: Done 271 tasks      | elapsed:   50.1s\n",
      "[Parallel(n_jobs=-1)]: Done 272 tasks      | elapsed:   50.1s\n",
      "[Parallel(n_jobs=-1)]: Done 273 tasks      | elapsed:   50.3s\n",
      "[Parallel(n_jobs=-1)]: Done 274 tasks      | elapsed:   50.5s\n",
      "[Parallel(n_jobs=-1)]: Done 275 tasks      | elapsed:   50.5s\n",
      "[Parallel(n_jobs=-1)]: Done 276 tasks      | elapsed:   50.6s\n",
      "[Parallel(n_jobs=-1)]: Done 277 tasks      | elapsed:   51.1s\n",
      "[Parallel(n_jobs=-1)]: Done 278 tasks      | elapsed:   51.4s\n",
      "[Parallel(n_jobs=-1)]: Done 279 tasks      | elapsed:   51.5s\n",
      "[Parallel(n_jobs=-1)]: Done 280 tasks      | elapsed:   51.5s\n",
      "[Parallel(n_jobs=-1)]: Done 281 tasks      | elapsed:   51.7s\n",
      "[Parallel(n_jobs=-1)]: Done 282 tasks      | elapsed:   51.9s\n",
      "[Parallel(n_jobs=-1)]: Done 283 tasks      | elapsed:   52.0s\n",
      "[Parallel(n_jobs=-1)]: Done 284 tasks      | elapsed:   52.2s\n",
      "[Parallel(n_jobs=-1)]: Done 285 tasks      | elapsed:   52.3s\n",
      "[Parallel(n_jobs=-1)]: Done 286 tasks      | elapsed:   52.6s\n",
      "[Parallel(n_jobs=-1)]: Done 287 tasks      | elapsed:   52.9s\n",
      "[Parallel(n_jobs=-1)]: Done 288 tasks      | elapsed:   53.2s\n",
      "[Parallel(n_jobs=-1)]: Done 289 tasks      | elapsed:   53.2s\n",
      "[Parallel(n_jobs=-1)]: Done 290 tasks      | elapsed:   53.3s\n",
      "[Parallel(n_jobs=-1)]: Done 291 tasks      | elapsed:   53.5s\n",
      "[Parallel(n_jobs=-1)]: Done 292 tasks      | elapsed:   53.6s\n",
      "[Parallel(n_jobs=-1)]: Done 293 tasks      | elapsed:   53.7s\n",
      "[Parallel(n_jobs=-1)]: Done 294 tasks      | elapsed:   54.0s\n",
      "[Parallel(n_jobs=-1)]: Done 295 tasks      | elapsed:   54.4s\n",
      "[Parallel(n_jobs=-1)]: Done 296 tasks      | elapsed:   54.4s\n",
      "[Parallel(n_jobs=-1)]: Done 297 tasks      | elapsed:   54.7s\n",
      "[Parallel(n_jobs=-1)]: Done 298 tasks      | elapsed:   54.9s\n",
      "[Parallel(n_jobs=-1)]: Done 299 tasks      | elapsed:   55.1s\n",
      "[Parallel(n_jobs=-1)]: Done 300 tasks      | elapsed:   55.2s\n",
      "[Parallel(n_jobs=-1)]: Done 301 tasks      | elapsed:   55.4s\n",
      "[Parallel(n_jobs=-1)]: Done 302 tasks      | elapsed:   55.4s\n",
      "[Parallel(n_jobs=-1)]: Done 303 tasks      | elapsed:   55.8s\n",
      "[Parallel(n_jobs=-1)]: Done 304 tasks      | elapsed:   55.9s\n",
      "[Parallel(n_jobs=-1)]: Done 305 tasks      | elapsed:   56.1s\n",
      "[Parallel(n_jobs=-1)]: Done 306 tasks      | elapsed:   56.2s\n",
      "[Parallel(n_jobs=-1)]: Done 307 tasks      | elapsed:   56.5s\n",
      "[Parallel(n_jobs=-1)]: Done 308 tasks      | elapsed:   56.6s\n",
      "[Parallel(n_jobs=-1)]: Done 309 tasks      | elapsed:   56.9s\n",
      "[Parallel(n_jobs=-1)]: Done 310 tasks      | elapsed:   57.0s\n",
      "[Parallel(n_jobs=-1)]: Done 311 tasks      | elapsed:   57.2s\n",
      "[Parallel(n_jobs=-1)]: Done 312 tasks      | elapsed:   57.3s\n",
      "[Parallel(n_jobs=-1)]: Done 313 tasks      | elapsed:   57.5s\n",
      "[Parallel(n_jobs=-1)]: Done 314 tasks      | elapsed:   57.7s\n",
      "[Parallel(n_jobs=-1)]: Done 315 tasks      | elapsed:   57.9s\n",
      "[Parallel(n_jobs=-1)]: Done 316 tasks      | elapsed:   58.1s\n",
      "[Parallel(n_jobs=-1)]: Done 317 tasks      | elapsed:   58.4s\n",
      "[Parallel(n_jobs=-1)]: Done 318 tasks      | elapsed:   58.6s\n",
      "[Parallel(n_jobs=-1)]: Done 319 tasks      | elapsed:   58.7s\n",
      "[Parallel(n_jobs=-1)]: Done 320 tasks      | elapsed:   58.7s\n",
      "[Parallel(n_jobs=-1)]: Done 321 tasks      | elapsed:   58.8s\n",
      "[Parallel(n_jobs=-1)]: Done 322 tasks      | elapsed:   59.1s\n",
      "[Parallel(n_jobs=-1)]: Done 323 tasks      | elapsed:   59.2s\n",
      "[Parallel(n_jobs=-1)]: Done 324 tasks      | elapsed:   59.6s\n",
      "[Parallel(n_jobs=-1)]: Done 325 tasks      | elapsed:   59.9s\n",
      "[Parallel(n_jobs=-1)]: Done 326 tasks      | elapsed:  1.0min\n",
      "[Parallel(n_jobs=-1)]: Done 327 tasks      | elapsed:  1.0min\n",
      "[Parallel(n_jobs=-1)]: Done 328 tasks      | elapsed:  1.0min\n",
      "[Parallel(n_jobs=-1)]: Done 329 tasks      | elapsed:  1.0min\n",
      "[Parallel(n_jobs=-1)]: Done 330 tasks      | elapsed:  1.0min\n",
      "[Parallel(n_jobs=-1)]: Done 331 tasks      | elapsed:  1.0min\n",
      "[Parallel(n_jobs=-1)]: Done 332 tasks      | elapsed:  1.0min\n",
      "[Parallel(n_jobs=-1)]: Done 333 tasks      | elapsed:  1.0min\n",
      "[Parallel(n_jobs=-1)]: Done 334 tasks      | elapsed:  1.0min\n",
      "[Parallel(n_jobs=-1)]: Done 335 tasks      | elapsed:  1.0min\n",
      "[Parallel(n_jobs=-1)]: Done 336 tasks      | elapsed:  1.0min\n",
      "[Parallel(n_jobs=-1)]: Done 337 tasks      | elapsed:  1.0min\n",
      "[Parallel(n_jobs=-1)]: Done 338 tasks      | elapsed:  1.0min\n",
      "[Parallel(n_jobs=-1)]: Done 339 tasks      | elapsed:  1.0min\n",
      "[Parallel(n_jobs=-1)]: Done 340 tasks      | elapsed:  1.0min\n",
      "[Parallel(n_jobs=-1)]: Done 341 tasks      | elapsed:  1.0min\n",
      "[Parallel(n_jobs=-1)]: Done 342 tasks      | elapsed:  1.1min\n",
      "[Parallel(n_jobs=-1)]: Done 343 tasks      | elapsed:  1.1min\n",
      "[Parallel(n_jobs=-1)]: Done 344 tasks      | elapsed:  1.1min\n",
      "[Parallel(n_jobs=-1)]: Done 345 tasks      | elapsed:  1.1min\n",
      "[Parallel(n_jobs=-1)]: Done 346 tasks      | elapsed:  1.1min\n",
      "[Parallel(n_jobs=-1)]: Done 347 tasks      | elapsed:  1.1min\n",
      "[Parallel(n_jobs=-1)]: Done 348 tasks      | elapsed:  1.1min\n",
      "[Parallel(n_jobs=-1)]: Done 349 tasks      | elapsed:  1.1min\n",
      "[Parallel(n_jobs=-1)]: Done 350 tasks      | elapsed:  1.1min\n",
      "[Parallel(n_jobs=-1)]: Done 351 tasks      | elapsed:  1.1min\n",
      "[Parallel(n_jobs=-1)]: Done 352 tasks      | elapsed:  1.1min\n",
      "[Parallel(n_jobs=-1)]: Done 353 tasks      | elapsed:  1.1min\n",
      "[Parallel(n_jobs=-1)]: Done 354 tasks      | elapsed:  1.1min\n",
      "[Parallel(n_jobs=-1)]: Done 355 tasks      | elapsed:  1.1min\n",
      "[Parallel(n_jobs=-1)]: Done 356 tasks      | elapsed:  1.1min\n",
      "[Parallel(n_jobs=-1)]: Done 357 tasks      | elapsed:  1.1min\n",
      "[Parallel(n_jobs=-1)]: Done 358 tasks      | elapsed:  1.1min\n",
      "[Parallel(n_jobs=-1)]: Done 359 tasks      | elapsed:  1.1min\n",
      "[Parallel(n_jobs=-1)]: Done 360 tasks      | elapsed:  1.1min\n",
      "[Parallel(n_jobs=-1)]: Done 361 tasks      | elapsed:  1.1min\n",
      "[Parallel(n_jobs=-1)]: Done 362 tasks      | elapsed:  1.1min\n",
      "[Parallel(n_jobs=-1)]: Done 363 tasks      | elapsed:  1.1min\n",
      "[Parallel(n_jobs=-1)]: Done 364 tasks      | elapsed:  1.1min\n",
      "[Parallel(n_jobs=-1)]: Done 365 tasks      | elapsed:  1.1min\n",
      "[Parallel(n_jobs=-1)]: Done 366 tasks      | elapsed:  1.1min\n",
      "[Parallel(n_jobs=-1)]: Done 367 tasks      | elapsed:  1.1min\n",
      "[Parallel(n_jobs=-1)]: Done 368 tasks      | elapsed:  1.1min\n",
      "[Parallel(n_jobs=-1)]: Done 369 tasks      | elapsed:  1.1min\n",
      "[Parallel(n_jobs=-1)]: Done 370 tasks      | elapsed:  1.1min\n",
      "[Parallel(n_jobs=-1)]: Done 371 tasks      | elapsed:  1.1min\n",
      "[Parallel(n_jobs=-1)]: Done 372 tasks      | elapsed:  1.1min\n",
      "[Parallel(n_jobs=-1)]: Done 373 tasks      | elapsed:  1.1min\n",
      "[Parallel(n_jobs=-1)]: Done 374 tasks      | elapsed:  1.1min\n",
      "[Parallel(n_jobs=-1)]: Done 375 tasks      | elapsed:  1.2min\n",
      "[Parallel(n_jobs=-1)]: Done 376 tasks      | elapsed:  1.2min\n",
      "[Parallel(n_jobs=-1)]: Done 377 tasks      | elapsed:  1.2min\n",
      "[Parallel(n_jobs=-1)]: Done 378 tasks      | elapsed:  1.2min\n",
      "[Parallel(n_jobs=-1)]: Done 379 tasks      | elapsed:  1.2min\n",
      "[Parallel(n_jobs=-1)]: Done 380 tasks      | elapsed:  1.2min\n",
      "[Parallel(n_jobs=-1)]: Done 381 tasks      | elapsed:  1.2min\n",
      "[Parallel(n_jobs=-1)]: Done 382 tasks      | elapsed:  1.2min\n",
      "[Parallel(n_jobs=-1)]: Done 383 tasks      | elapsed:  1.2min\n",
      "[Parallel(n_jobs=-1)]: Done 384 tasks      | elapsed:  1.2min\n",
      "[Parallel(n_jobs=-1)]: Done 385 tasks      | elapsed:  1.2min\n",
      "[Parallel(n_jobs=-1)]: Done 386 tasks      | elapsed:  1.2min\n",
      "[Parallel(n_jobs=-1)]: Done 387 tasks      | elapsed:  1.2min\n",
      "[Parallel(n_jobs=-1)]: Done 388 tasks      | elapsed:  1.2min\n",
      "[Parallel(n_jobs=-1)]: Done 389 tasks      | elapsed:  1.2min\n",
      "[Parallel(n_jobs=-1)]: Done 390 tasks      | elapsed:  1.2min\n",
      "[Parallel(n_jobs=-1)]: Done 391 tasks      | elapsed:  1.2min\n",
      "[Parallel(n_jobs=-1)]: Done 392 tasks      | elapsed:  1.2min\n",
      "[Parallel(n_jobs=-1)]: Done 393 tasks      | elapsed:  1.2min\n",
      "[Parallel(n_jobs=-1)]: Done 394 tasks      | elapsed:  1.2min\n",
      "[Parallel(n_jobs=-1)]: Done 395 tasks      | elapsed:  1.2min\n",
      "[Parallel(n_jobs=-1)]: Done 396 tasks      | elapsed:  1.2min\n",
      "[Parallel(n_jobs=-1)]: Done 397 tasks      | elapsed:  1.2min\n",
      "[Parallel(n_jobs=-1)]: Done 398 tasks      | elapsed:  1.2min\n",
      "[Parallel(n_jobs=-1)]: Done 399 tasks      | elapsed:  1.2min\n",
      "[Parallel(n_jobs=-1)]: Done 400 tasks      | elapsed:  1.2min\n",
      "[Parallel(n_jobs=-1)]: Done 401 tasks      | elapsed:  1.2min\n",
      "[Parallel(n_jobs=-1)]: Done 402 tasks      | elapsed:  1.2min\n",
      "[Parallel(n_jobs=-1)]: Done 403 tasks      | elapsed:  1.2min\n",
      "[Parallel(n_jobs=-1)]: Done 404 tasks      | elapsed:  1.2min\n",
      "[Parallel(n_jobs=-1)]: Done 405 tasks      | elapsed:  1.2min\n",
      "[Parallel(n_jobs=-1)]: Done 406 tasks      | elapsed:  1.2min\n",
      "[Parallel(n_jobs=-1)]: Done 407 tasks      | elapsed:  1.3min\n",
      "[Parallel(n_jobs=-1)]: Done 408 tasks      | elapsed:  1.3min\n",
      "[Parallel(n_jobs=-1)]: Done 409 tasks      | elapsed:  1.3min\n",
      "[Parallel(n_jobs=-1)]: Done 410 tasks      | elapsed:  1.3min\n",
      "[Parallel(n_jobs=-1)]: Done 411 tasks      | elapsed:  1.3min\n",
      "[Parallel(n_jobs=-1)]: Done 412 tasks      | elapsed:  1.3min\n",
      "[Parallel(n_jobs=-1)]: Done 413 tasks      | elapsed:  1.3min\n",
      "[Parallel(n_jobs=-1)]: Done 414 tasks      | elapsed:  1.3min\n",
      "[Parallel(n_jobs=-1)]: Done 415 tasks      | elapsed:  1.3min\n",
      "[Parallel(n_jobs=-1)]: Done 416 tasks      | elapsed:  1.3min\n",
      "[Parallel(n_jobs=-1)]: Done 417 tasks      | elapsed:  1.3min\n",
      "[Parallel(n_jobs=-1)]: Done 418 tasks      | elapsed:  1.3min\n",
      "[Parallel(n_jobs=-1)]: Done 419 tasks      | elapsed:  1.3min\n",
      "[Parallel(n_jobs=-1)]: Done 420 tasks      | elapsed:  1.3min\n",
      "[Parallel(n_jobs=-1)]: Done 421 tasks      | elapsed:  1.3min\n",
      "[Parallel(n_jobs=-1)]: Done 422 tasks      | elapsed:  1.3min\n",
      "[Parallel(n_jobs=-1)]: Done 423 tasks      | elapsed:  1.3min\n",
      "[Parallel(n_jobs=-1)]: Done 424 tasks      | elapsed:  1.3min\n",
      "[Parallel(n_jobs=-1)]: Done 425 tasks      | elapsed:  1.3min\n",
      "[Parallel(n_jobs=-1)]: Done 426 tasks      | elapsed:  1.3min\n",
      "[Parallel(n_jobs=-1)]: Done 427 tasks      | elapsed:  1.3min\n",
      "[Parallel(n_jobs=-1)]: Done 428 tasks      | elapsed:  1.3min\n",
      "[Parallel(n_jobs=-1)]: Done 429 tasks      | elapsed:  1.3min\n",
      "[Parallel(n_jobs=-1)]: Done 430 tasks      | elapsed:  1.3min\n",
      "[Parallel(n_jobs=-1)]: Done 431 tasks      | elapsed:  1.3min\n",
      "[Parallel(n_jobs=-1)]: Done 432 tasks      | elapsed:  1.3min\n",
      "[Parallel(n_jobs=-1)]: Done 433 tasks      | elapsed:  1.3min\n",
      "[Parallel(n_jobs=-1)]: Done 434 tasks      | elapsed:  1.3min\n",
      "[Parallel(n_jobs=-1)]: Done 435 tasks      | elapsed:  1.3min\n",
      "[Parallel(n_jobs=-1)]: Done 436 tasks      | elapsed:  1.3min\n",
      "[Parallel(n_jobs=-1)]: Done 437 tasks      | elapsed:  1.3min\n",
      "[Parallel(n_jobs=-1)]: Done 438 tasks      | elapsed:  1.3min\n",
      "[Parallel(n_jobs=-1)]: Done 439 tasks      | elapsed:  1.4min\n",
      "[Parallel(n_jobs=-1)]: Done 440 tasks      | elapsed:  1.4min\n",
      "[Parallel(n_jobs=-1)]: Done 441 tasks      | elapsed:  1.4min\n",
      "[Parallel(n_jobs=-1)]: Done 442 tasks      | elapsed:  1.4min\n",
      "[Parallel(n_jobs=-1)]: Done 443 tasks      | elapsed:  1.4min\n",
      "[Parallel(n_jobs=-1)]: Done 444 tasks      | elapsed:  1.4min\n",
      "[Parallel(n_jobs=-1)]: Done 445 tasks      | elapsed:  1.4min\n",
      "[Parallel(n_jobs=-1)]: Done 446 tasks      | elapsed:  1.4min\n",
      "[Parallel(n_jobs=-1)]: Done 447 tasks      | elapsed:  1.4min\n",
      "[Parallel(n_jobs=-1)]: Done 448 tasks      | elapsed:  1.4min\n",
      "[Parallel(n_jobs=-1)]: Done 449 tasks      | elapsed:  1.4min\n",
      "[Parallel(n_jobs=-1)]: Done 450 tasks      | elapsed:  1.4min\n",
      "[Parallel(n_jobs=-1)]: Done 451 tasks      | elapsed:  1.4min\n",
      "[Parallel(n_jobs=-1)]: Done 452 tasks      | elapsed:  1.4min\n",
      "[Parallel(n_jobs=-1)]: Done 453 tasks      | elapsed:  1.4min\n",
      "[Parallel(n_jobs=-1)]: Done 454 tasks      | elapsed:  1.4min\n",
      "[Parallel(n_jobs=-1)]: Done 455 tasks      | elapsed:  1.4min\n",
      "[Parallel(n_jobs=-1)]: Done 456 tasks      | elapsed:  1.4min\n",
      "[Parallel(n_jobs=-1)]: Done 457 tasks      | elapsed:  1.4min\n",
      "[Parallel(n_jobs=-1)]: Done 458 tasks      | elapsed:  1.4min\n",
      "[Parallel(n_jobs=-1)]: Done 459 tasks      | elapsed:  1.4min\n",
      "[Parallel(n_jobs=-1)]: Done 460 tasks      | elapsed:  1.4min\n",
      "[Parallel(n_jobs=-1)]: Done 461 tasks      | elapsed:  1.4min\n",
      "[Parallel(n_jobs=-1)]: Done 462 tasks      | elapsed:  1.4min\n",
      "[Parallel(n_jobs=-1)]: Done 463 tasks      | elapsed:  1.4min\n",
      "[Parallel(n_jobs=-1)]: Done 464 tasks      | elapsed:  1.4min\n",
      "[Parallel(n_jobs=-1)]: Done 465 tasks      | elapsed:  1.4min\n",
      "[Parallel(n_jobs=-1)]: Done 466 tasks      | elapsed:  1.4min\n",
      "[Parallel(n_jobs=-1)]: Done 467 tasks      | elapsed:  1.4min\n",
      "[Parallel(n_jobs=-1)]: Done 468 tasks      | elapsed:  1.4min\n",
      "[Parallel(n_jobs=-1)]: Done 469 tasks      | elapsed:  1.5min\n",
      "[Parallel(n_jobs=-1)]: Done 470 tasks      | elapsed:  1.5min\n",
      "[Parallel(n_jobs=-1)]: Done 471 tasks      | elapsed:  1.5min\n",
      "[Parallel(n_jobs=-1)]: Done 472 tasks      | elapsed:  1.5min\n",
      "[Parallel(n_jobs=-1)]: Done 473 tasks      | elapsed:  1.5min\n",
      "[Parallel(n_jobs=-1)]: Done 474 tasks      | elapsed:  1.5min\n",
      "[Parallel(n_jobs=-1)]: Done 475 tasks      | elapsed:  1.5min\n",
      "[Parallel(n_jobs=-1)]: Done 476 tasks      | elapsed:  1.5min\n",
      "[Parallel(n_jobs=-1)]: Done 477 tasks      | elapsed:  1.5min\n",
      "[Parallel(n_jobs=-1)]: Done 478 tasks      | elapsed:  1.5min\n",
      "[Parallel(n_jobs=-1)]: Done 479 tasks      | elapsed:  1.5min\n",
      "[Parallel(n_jobs=-1)]: Done 480 tasks      | elapsed:  1.5min\n",
      "[Parallel(n_jobs=-1)]: Done 481 tasks      | elapsed:  1.5min\n",
      "[Parallel(n_jobs=-1)]: Done 482 tasks      | elapsed:  1.5min\n",
      "[Parallel(n_jobs=-1)]: Done 483 tasks      | elapsed:  1.5min\n",
      "[Parallel(n_jobs=-1)]: Done 484 tasks      | elapsed:  1.5min\n",
      "[Parallel(n_jobs=-1)]: Done 485 tasks      | elapsed:  1.5min\n",
      "[Parallel(n_jobs=-1)]: Done 500 out of 500 | elapsed:  1.5min finished\n"
     ]
    },
    {
     "name": "stdout",
     "output_type": "stream",
     "text": [
      "{'min_samples_split': 20, 'min_samples_leaf': 4, 'max_features': 'sqrt', 'max_depth': 110}\n",
      "0.8574923031504365\n"
     ]
    }
   ],
   "source": [
    "# Fit the random search model\n",
    "rf_random.fit(X_train, y_train)\n",
    "print(rf_random.best_params_)\n",
    "print(rf_random.best_score_)\n"
   ]
  },
  {
   "cell_type": "markdown",
   "metadata": {
    "colab_type": "text",
    "id": "W6vdDWuoBqIG"
   },
   "source": [
    "### Hyperparameter tuning"
   ]
  },
  {
   "cell_type": "code",
   "execution_count": 14,
   "metadata": {
    "colab": {
     "base_uri": "https://localhost:8080/",
     "height": 162
    },
    "colab_type": "code",
    "id": "acVr2PDMwbiB",
    "outputId": "2fb0ce3e-3cf6-44b0-d8af-460be17b2733"
   },
   "outputs": [
    {
     "name": "stdout",
     "output_type": "stream",
     "text": [
      "Fitting 5 folds for each of 72 candidates, totalling 360 fits\n"
     ]
    },
    {
     "name": "stderr",
     "output_type": "stream",
     "text": [
      "[Parallel(n_jobs=-1)]: Using backend LokyBackend with 8 concurrent workers.\n",
      "[Parallel(n_jobs=-1)]: Done   9 tasks      | elapsed:    3.4s\n",
      "[Parallel(n_jobs=-1)]: Done  82 tasks      | elapsed:   10.9s\n",
      "[Parallel(n_jobs=-1)]: Done 205 tasks      | elapsed:   26.8s\n",
      "[Parallel(n_jobs=-1)]: Done 360 out of 360 | elapsed:   47.4s finished\n"
     ]
    },
    {
     "name": "stdout",
     "output_type": "stream",
     "text": [
      "{'max_depth': 20, 'max_features': 'sqrt', 'min_samples_leaf': 8, 'min_samples_split': 20}\n",
      "0.862279374278951\n"
     ]
    }
   ],
   "source": [
    "# Create the parameter grid based on the results of random search \n",
    "param_grid = {\n",
    "    'max_depth': [20, 25, 30],\n",
    "    'max_features': ['sqrt', 'auto'],\n",
    "    'min_samples_leaf': [2, 4, 8, 12],\n",
    "    'min_samples_split': [16, 20, 24]}\n",
    "\n",
    "\n",
    "# Instantiate the grid search model\n",
    "from sklearn.model_selection import GridSearchCV\n",
    "\n",
    "grid_search = GridSearchCV(estimator = rf, param_grid = param_grid, \n",
    "                          cv = scv, n_jobs = -1, verbose = 4)\n",
    "grid_search.fit(X_train, y_train)\n",
    "print(grid_search.best_params_)\n",
    "print(grid_search.best_score_)"
   ]
  },
  {
   "cell_type": "markdown",
   "metadata": {
    "colab_type": "text",
    "id": "fYHgSBi8CHZO"
   },
   "source": [
    "### Final Model\n",
    "\n"
   ]
  },
  {
   "cell_type": "code",
   "execution_count": 15,
   "metadata": {
    "colab": {
     "base_uri": "https://localhost:8080/",
     "height": 237
    },
    "colab_type": "code",
    "id": "wAX860J5wqTL",
    "outputId": "b249db14-fa55-4e85-8293-21f5a001851e"
   },
   "outputs": [
    {
     "name": "stdout",
     "output_type": "stream",
     "text": [
      "              precision    recall  f1-score   support\n",
      "\n",
      "           0       0.79      0.80      0.80      3622\n",
      "           1       0.88      0.87      0.87      5899\n",
      "\n",
      "   micro avg       0.84      0.84      0.84      9521\n",
      "   macro avg       0.83      0.84      0.83      9521\n",
      "weighted avg       0.84      0.84      0.84      9521\n",
      "\n"
     ]
    },
    {
     "name": "stderr",
     "output_type": "stream",
     "text": [
      "C:\\ProgramData\\Anaconda3\\lib\\site-packages\\numpy\\lib\\arraysetops.py:564: FutureWarning: elementwise comparison failed; returning scalar instead, but in the future will perform elementwise comparison\n",
      "  mask &= (ar1 != a)\n"
     ]
    }
   ],
   "source": [
    "# Training model with best set of parameters obtained from grid search\n",
    "DTC = DecisionTreeClassifier(random_state=0, max_depth=20, max_features='sqrt', \n",
    "                             min_samples_leaf=8, min_samples_split= 20)\n",
    "DTC.fit(X_train, y_train)\n",
    "y_valid = DTC.predict(X_validate)\n",
    "\n",
    "# Making the Confusion Matrix\n",
    "from sklearn.metrics import confusion_matrix\n",
    "from sklearn import metrics\n",
    "\n",
    "cm = confusion_matrix(y_validate, y_valid)\n",
    "report = metrics.classification_report(y_validate, y_valid, labels=[0,1])\n",
    "print(report)"
   ]
  },
  {
   "cell_type": "code",
   "execution_count": 16,
   "metadata": {
    "colab": {
     "base_uri": "https://localhost:8080/",
     "height": 53
    },
    "colab_type": "code",
    "id": "WMVtr_63_J7Y",
    "outputId": "799f5d56-6359-403f-b752-b893a608bfad"
   },
   "outputs": [
    {
     "name": "stdout",
     "output_type": "stream",
     "text": [
      "0.8889123191767534\n",
      "0.8427686167419389\n"
     ]
    }
   ],
   "source": [
    "train_accuracy = DTC.score(X_train, y_train)\n",
    "print(train_accuracy)\n",
    "validation_accuracy = DTC.score(X_validate, y_validate)\n",
    "print(validation_accuracy)"
   ]
  },
  {
   "cell_type": "markdown",
   "metadata": {
    "colab_type": "text",
    "id": "ns8RY3f8CLpb"
   },
   "source": [
    "### Pruning Tree"
   ]
  },
  {
   "cell_type": "code",
   "execution_count": 17,
   "metadata": {
    "colab": {},
    "colab_type": "code",
    "id": "S6WurKOKAnMz"
   },
   "outputs": [],
   "source": [
    "# let's observe the differnce using tree pruning\n",
    "path = DTC.cost_complexity_pruning_path(X_train, y_train)\n",
    "ccp_alphas, impurities = path.ccp_alphas, path.impurities"
   ]
  },
  {
   "cell_type": "code",
   "execution_count": 18,
   "metadata": {
    "colab": {
     "base_uri": "https://localhost:8080/",
     "height": 313
    },
    "colab_type": "code",
    "id": "-AfcgYTWAyCH",
    "outputId": "80d99792-2538-45e5-e48b-7681818a2fd0"
   },
   "outputs": [
    {
     "data": {
      "text/plain": [
       "Text(0.5, 1.0, 'Total Impurity vs effective alpha for training set')"
      ]
     },
     "execution_count": 18,
     "metadata": {},
     "output_type": "execute_result"
    },
    {
     "data": {
      "image/png": "[encoded data removed]",
      "text/plain": [
       "<Figure size 432x288 with 1 Axes>"
      ]
     },
     "metadata": {
      "needs_background": "light"
     },
     "output_type": "display_data"
    }
   ],
   "source": [
    "fig, ax = plt.subplots()\n",
    "ax.plot(ccp_alphas[:-1], impurities[:-1], marker='o', drawstyle=\"steps-post\")\n",
    "ax.set_xlabel(\"effective alpha\")\n",
    "ax.set_ylabel(\"total impurity of leaves\")\n",
    "ax.set_title(\"Total Impurity vs effective alpha for training set\")"
   ]
  },
  {
   "cell_type": "code",
   "execution_count": 19,
   "metadata": {
    "colab": {
     "base_uri": "https://localhost:8080/",
     "height": 35
    },
    "colab_type": "code",
    "id": "aZjFxTwsA0O5",
    "outputId": "32daadd6-4af8-4b3f-acd4-d5e89d35d200"
   },
   "outputs": [
    {
     "name": "stdout",
     "output_type": "stream",
     "text": [
      "Number of nodes in the last tree is: 1 with ccp_alpha: 0.015818904951789364\n"
     ]
    }
   ],
   "source": [
    "clfs = []\n",
    "for ccp_alpha in ccp_alphas:\n",
    "    clf = DecisionTreeClassifier(random_state=0, max_depth=20, max_features='sqrt', \n",
    "                             min_samples_leaf=8, min_samples_split= 20\n",
    "                             , ccp_alpha=ccp_alpha)\n",
    "    clf.fit(X_train, y_train)\n",
    "    clfs.append(clf)\n",
    "print(\"Number of nodes in the last tree is: {} with ccp_alpha: {}\".format(\n",
    "    clfs[-1].tree_.node_count, ccp_alphas[-1]))"
   ]
  },
  {
   "cell_type": "code",
   "execution_count": 20,
   "metadata": {
    "colab": {},
    "colab_type": "code",
    "id": "vqK9bzMCA4yr"
   },
   "outputs": [],
   "source": [
    "clfs = clfs[:-1]\n",
    "ccp_alphas = ccp_alphas[:-1]\n",
    "\n",
    "train_scores = [clf.score(X_train, y_train) for clf in clfs]\n",
    "test_scores = [clf.score(X_validate, y_validate) for clf in clfs]\n"
   ]
  },
  {
   "cell_type": "code",
   "execution_count": 21,
   "metadata": {
    "colab": {
     "base_uri": "https://localhost:8080/",
     "height": 53
    },
    "colab_type": "code",
    "id": "HVtHpfRUAk9G",
    "outputId": "24a0df28-f88c-4573-ebad-b65a986443e4"
   },
   "outputs": [
    {
     "name": "stdout",
     "output_type": "stream",
     "text": [
      "0   1006\n",
      "0.8889123191767534   0.8507509715366033\n"
     ]
    }
   ],
   "source": [
    "import operator\n",
    "index, max_score = max(enumerate(train_scores), key=operator.itemgetter(1))\n",
    "index1, max_score1 = max(enumerate(test_scores), key=operator.itemgetter(1))\n",
    "print(index  ,\" \" , index1)\n",
    "print(max_score, \" \", max_score1)\n",
    "# Observed no signigicant change due to tree pruning"
   ]
  },
  {
   "cell_type": "markdown",
   "metadata": {
    "colab_type": "text",
    "id": "sp5J4TARC_So"
   },
   "source": [
    "### Final Model after pruning"
   ]
  },
  {
   "cell_type": "code",
   "execution_count": 22,
   "metadata": {
    "colab": {
     "base_uri": "https://localhost:8080/",
     "height": 126
    },
    "colab_type": "code",
    "id": "c1BEkWvmAo_p",
    "outputId": "5fb36c8c-1a95-4896-ddae-4c650ce4eeb9"
   },
   "outputs": [
    {
     "data": {
      "text/plain": [
       "DecisionTreeClassifier(ccp_alpha=5.0228679609557684e-05, class_weight=None,\n",
       "                       criterion='gini', max_depth=20, max_features='sqrt',\n",
       "                       max_leaf_nodes=None, min_impurity_decrease=0.0,\n",
       "                       min_impurity_split=None, min_samples_leaf=8,\n",
       "                       min_samples_split=20, min_weight_fraction_leaf=0.0,\n",
       "                       presort='deprecated', random_state=0, splitter='best')"
      ]
     },
     "execution_count": 22,
     "metadata": {},
     "output_type": "execute_result"
    }
   ],
   "source": [
    "DTC = DecisionTreeClassifier(random_state=0, max_depth=20, max_features='sqrt', \n",
    "                             min_samples_leaf=8, min_samples_split= 20, ccp_alpha=ccp_alphas[index1])\n",
    "DTC.fit(X_train, y_train)"
   ]
  },
  {
   "cell_type": "code",
   "execution_count": 23,
   "metadata": {
    "colab": {},
    "colab_type": "code",
    "id": "aHbUkCU2DK-b"
   },
   "outputs": [],
   "source": [
    "y_test_preds = DTC.predict(X_test)"
   ]
  },
  {
   "cell_type": "markdown",
   "metadata": {
    "colab_type": "text",
    "id": "Zica2zVpDFAa"
   },
   "source": [
    "### Creating final results"
   ]
  },
  {
   "cell_type": "code",
   "execution_count": 30,
   "metadata": {
    "colab": {},
    "colab_type": "code",
    "id": "LKF7-rl0BXNP"
   },
   "outputs": [],
   "source": [
    "submission_format = pd.DataFrame(y_test_preds)\n",
    "submission_format.columns = ['winner']\n",
    "#df_test.drop('winner', axis=1, inplace=True) # removing dependent variable from all drop\n",
    "FinalSubmission = pd.concat([df_test, submission_format], axis=1)\n",
    "FinalSubmission.to_csv(r\"C:\\Users\\Syed Abdullah Ashraf\\Downloads\\ANN\\CART Model\\results1.csv\", header=True, index=None)"
   ]
  },
  {
   "cell_type": "code",
   "execution_count": null,
   "metadata": {},
   "outputs": [],
   "source": []
  }
 ],
 "metadata": {
  "colab": {
   "collapsed_sections": [],
   "name": "CART model.ipynb",
   "provenance": [],
   "toc_visible": true
  },
  "kernelspec": {
   "display_name": "Python 3 (ipykernel)",
   "language": "python",
   "name": "python3"
  },
  "language_info": {
   "codemirror_mode": {
    "name": "ipython",
    "version": 3
   },
   "file_extension": ".py",
   "mimetype": "text/x-python",
   "name": "python",
   "nbconvert_exporter": "python",
   "pygments_lexer": "ipython3",
   "version": "3.8.13"
  }
 },
 "nbformat": 4,
 "nbformat_minor": 4
}
